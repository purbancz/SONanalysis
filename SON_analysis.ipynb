{
 "cells": [
  {
   "cell_type": "code",
   "execution_count": null,
   "id": "c8b598c6",
   "metadata": {},
   "outputs": [
    {
     "name": "stdout",
     "output_type": "stream",
     "text": [
      "Znaleziono 9 plików CSV:\n",
      " - 20200507 I konkurs I Biblioteki_cleaned.csv\n",
      " - 20200507 I konkurs I Popularyzacja_cleaned.csv\n",
      " - 20211231 I konkurs II Biblioteki_cleaned.csv\n",
      " - 20211231 I konkurs II Popularyzacja_cleaned.csv\n",
      " - 20220926 I konkurs III Biblioteki_cleaned.csv\n",
      " - 20220926 I konkurs III Popularyzacja_cleaned.csv\n",
      " - 20241104 II Biblioteki_cleaned.csv\n",
      " - 20241104 II Popularyzacja_cleaned.csv\n",
      " - 20241230 II Popularyzacja - lista dodatkowa_cleaned.csv\n"
     ]
    }
   ],
   "source": [
    "import pandas as pd\n",
    "from pathlib import Path\n",
    "\n",
    "DATA_DIR = Path(\"csv\")\n",
    "\n",
    "csv_files = sorted(DATA_DIR.glob(\"*.csv\"))\n",
    "print(f\"Znaleziono {len(csv_files)} plików CSV:\")\n",
    "for f in csv_files:\n",
    "    print(\" -\", f.name)\n"
   ]
  },
  {
   "cell_type": "code",
   "execution_count": 2,
   "id": "0d18ed5c",
   "metadata": {},
   "outputs": [
    {
     "name": "stdout",
     "output_type": "stream",
     "text": [
      "\n",
      "Połączono dane: 830 wierszy łącznie.\n"
     ]
    },
    {
     "data": {
      "text/html": [
       "<div>\n",
       "<style scoped>\n",
       "    .dataframe tbody tr th:only-of-type {\n",
       "        vertical-align: middle;\n",
       "    }\n",
       "\n",
       "    .dataframe tbody tr th {\n",
       "        vertical-align: top;\n",
       "    }\n",
       "\n",
       "    .dataframe thead th {\n",
       "        text-align: right;\n",
       "    }\n",
       "</style>\n",
       "<table border=\"1\" class=\"dataframe\">\n",
       "  <thead>\n",
       "    <tr style=\"text-align: right;\">\n",
       "      <th></th>\n",
       "      <th>Lp</th>\n",
       "      <th>Numer rejestracyjny</th>\n",
       "      <th>Wnioskodawca</th>\n",
       "      <th>Tytuł projektu</th>\n",
       "      <th>Kwota</th>\n",
       "      <th>Data przyznania</th>\n",
       "      <th>Konkurs</th>\n",
       "      <th>Moduł</th>\n",
       "      <th>Źródło</th>\n",
       "    </tr>\n",
       "  </thead>\n",
       "  <tbody>\n",
       "    <tr>\n",
       "      <th>0</th>\n",
       "      <td>1</td>\n",
       "      <td>SONB/SP/461244/2020</td>\n",
       "      <td>Akademia Muzyczna im. Karola Szymanowskiego w ...</td>\n",
       "      <td>Budowa cyfrowego repozytorium kolekcji afiszy ...</td>\n",
       "      <td>223344</td>\n",
       "      <td>2020-05-07</td>\n",
       "      <td>SON I konkurs I</td>\n",
       "      <td>Biblioteki</td>\n",
       "      <td>20200507 I konkurs I Biblioteki_cleaned</td>\n",
       "    </tr>\n",
       "    <tr>\n",
       "      <th>1</th>\n",
       "      <td>2</td>\n",
       "      <td>SONB/SN/469058/2020</td>\n",
       "      <td>Diecezja Sandomierska</td>\n",
       "      <td>Konserwacja zachowawcza,opracowanie i udostępn...</td>\n",
       "      <td>250000</td>\n",
       "      <td>2020-05-07</td>\n",
       "      <td>SON I konkurs I</td>\n",
       "      <td>Biblioteki</td>\n",
       "      <td>20200507 I konkurs I Biblioteki_cleaned</td>\n",
       "    </tr>\n",
       "    <tr>\n",
       "      <th>2</th>\n",
       "      <td>3</td>\n",
       "      <td>SONB/SN/469156/2020</td>\n",
       "      <td>Diecezja Sandomierska</td>\n",
       "      <td>Konserwacja, opracowanie i udostępnienie 70 st...</td>\n",
       "      <td>224734</td>\n",
       "      <td>2020-05-07</td>\n",
       "      <td>SON I konkurs I</td>\n",
       "      <td>Biblioteki</td>\n",
       "      <td>20200507 I konkurs I Biblioteki_cleaned</td>\n",
       "    </tr>\n",
       "    <tr>\n",
       "      <th>3</th>\n",
       "      <td>4</td>\n",
       "      <td>SONB/SP/461397/2020</td>\n",
       "      <td>Katolicki Uniwersytet Lubelski Jana Pawła II</td>\n",
       "      <td>Opracowanie i digitalizacja dawnych unikatowyc...</td>\n",
       "      <td>170280</td>\n",
       "      <td>2020-05-07</td>\n",
       "      <td>SON I konkurs I</td>\n",
       "      <td>Biblioteki</td>\n",
       "      <td>20200507 I konkurs I Biblioteki_cleaned</td>\n",
       "    </tr>\n",
       "    <tr>\n",
       "      <th>4</th>\n",
       "      <td>5</td>\n",
       "      <td>SONB/SP/461400/2020</td>\n",
       "      <td>Katolicki Uniwersytet Lubelski Jana Pawła II</td>\n",
       "      <td>Digitalizacja unikatowych periodyków ukraiński...</td>\n",
       "      <td>218460</td>\n",
       "      <td>2020-05-07</td>\n",
       "      <td>SON I konkurs I</td>\n",
       "      <td>Biblioteki</td>\n",
       "      <td>20200507 I konkurs I Biblioteki_cleaned</td>\n",
       "    </tr>\n",
       "  </tbody>\n",
       "</table>\n",
       "</div>"
      ],
      "text/plain": [
       "  Lp  Numer rejestracyjny                                       Wnioskodawca  \\\n",
       "0  1  SONB/SP/461244/2020  Akademia Muzyczna im. Karola Szymanowskiego w ...   \n",
       "1  2  SONB/SN/469058/2020                              Diecezja Sandomierska   \n",
       "2  3  SONB/SN/469156/2020                              Diecezja Sandomierska   \n",
       "3  4  SONB/SP/461397/2020       Katolicki Uniwersytet Lubelski Jana Pawła II   \n",
       "4  5  SONB/SP/461400/2020       Katolicki Uniwersytet Lubelski Jana Pawła II   \n",
       "\n",
       "                                      Tytuł projektu   Kwota Data przyznania  \\\n",
       "0  Budowa cyfrowego repozytorium kolekcji afiszy ...  223344      2020-05-07   \n",
       "1  Konserwacja zachowawcza,opracowanie i udostępn...  250000      2020-05-07   \n",
       "2  Konserwacja, opracowanie i udostępnienie 70 st...  224734      2020-05-07   \n",
       "3  Opracowanie i digitalizacja dawnych unikatowyc...  170280      2020-05-07   \n",
       "4  Digitalizacja unikatowych periodyków ukraiński...  218460      2020-05-07   \n",
       "\n",
       "           Konkurs       Moduł                                   Źródło  \n",
       "0  SON I konkurs I  Biblioteki  20200507 I konkurs I Biblioteki_cleaned  \n",
       "1  SON I konkurs I  Biblioteki  20200507 I konkurs I Biblioteki_cleaned  \n",
       "2  SON I konkurs I  Biblioteki  20200507 I konkurs I Biblioteki_cleaned  \n",
       "3  SON I konkurs I  Biblioteki  20200507 I konkurs I Biblioteki_cleaned  \n",
       "4  SON I konkurs I  Biblioteki  20200507 I konkurs I Biblioteki_cleaned  "
      ]
     },
     "execution_count": 2,
     "metadata": {},
     "output_type": "execute_result"
    }
   ],
   "source": [
    "dfs = []\n",
    "for file in csv_files:\n",
    "    df = pd.read_csv(file, dtype=str)\n",
    "    df[\"Źródło\"] = file.stem\n",
    "    dfs.append(df)\n",
    "\n",
    "df_all = pd.concat(dfs, ignore_index=True)\n",
    "\n",
    "print(f\"\\nPołączono dane: {len(df_all)} wierszy łącznie.\")\n",
    "df_all.head()\n"
   ]
  },
  {
   "cell_type": "code",
   "execution_count": 3,
   "id": "a9d7ddd8",
   "metadata": {},
   "outputs": [
    {
     "name": "stdout",
     "output_type": "stream",
     "text": [
      "Kolumny w zbiorczym DataFrame:\n",
      "['Lp', 'Numer rejestracyjny', 'Wnioskodawca', 'Tytuł projektu', 'Kwota', 'Data przyznania', 'Konkurs', 'Moduł', 'Źródło']\n",
      "\n",
      "Lata / Konkursy / Moduły:\n",
      "['2020-05-07' '2021-12-31' '2022-09-26' '2024-11-04' '2024-12-30']\n",
      "['SON I konkurs I' 'SON I konkurs II' 'SON I konkurs III' 'SON II']\n",
      "['Biblioteki' 'Popularyzacja']\n"
     ]
    }
   ],
   "source": [
    "print(\"Kolumny w zbiorczym DataFrame:\")\n",
    "print(df_all.columns.tolist())\n",
    "\n",
    "print(\"\\nLata / Konkursy / Moduły:\")\n",
    "print(df_all[\"Data przyznania\"].unique())\n",
    "print(df_all[\"Konkurs\"].unique())\n",
    "print(df_all[\"Moduł\"].unique())\n"
   ]
  },
  {
   "cell_type": "code",
   "execution_count": 4,
   "id": "6839129a",
   "metadata": {},
   "outputs": [
    {
     "name": "stdout",
     "output_type": "stream",
     "text": [
      "Zakres kwot (PLN):\n",
      "count        830.000000\n",
      "mean      207355.717373\n",
      "std       205265.362217\n",
      "min        20000.000000\n",
      "25%        77551.250000\n",
      "50%       136275.000000\n",
      "75%       247940.000000\n",
      "max      1000000.000000\n",
      "Name: Kwota_clean, dtype: float64\n"
     ]
    }
   ],
   "source": [
    "# Konwersja kwoty do wartości liczbowych\n",
    "# usuń spacje, kropki tysiąca, zamień przecinki na kropki\n",
    "df_all[\"Kwota_clean\"] = (\n",
    "    df_all[\"Kwota\"]\n",
    "    .astype(str)\n",
    "    .str.replace(r\"[^\\d,\\.]\", \"\", regex=True)\n",
    "    .str.replace(\",\", \".\", regex=False)\n",
    "    .str.replace(r\"\\.(?=\\d{3}\\b)\", \"\", regex=True)  # usuń separator tysiąca\n",
    ")\n",
    "\n",
    "# Konwersja do float\n",
    "df_all[\"Kwota_clean\"] = pd.to_numeric(df_all[\"Kwota_clean\"], errors=\"coerce\")\n",
    "\n",
    "print(\"Zakres kwot (PLN):\")\n",
    "print(df_all[\"Kwota_clean\"].describe())\n"
   ]
  },
  {
   "cell_type": "code",
   "execution_count": 5,
   "id": "9e919497",
   "metadata": {},
   "outputs": [
    {
     "data": {
      "text/html": [
       "<div>\n",
       "<style scoped>\n",
       "    .dataframe tbody tr th:only-of-type {\n",
       "        vertical-align: middle;\n",
       "    }\n",
       "\n",
       "    .dataframe tbody tr th {\n",
       "        vertical-align: top;\n",
       "    }\n",
       "\n",
       "    .dataframe thead th {\n",
       "        text-align: right;\n",
       "    }\n",
       "</style>\n",
       "<table border=\"1\" class=\"dataframe\">\n",
       "  <thead>\n",
       "    <tr style=\"text-align: right;\">\n",
       "      <th></th>\n",
       "      <th>Data przyznania</th>\n",
       "      <th>Rok</th>\n",
       "      <th>Konkurs</th>\n",
       "      <th>Moduł</th>\n",
       "    </tr>\n",
       "  </thead>\n",
       "  <tbody>\n",
       "    <tr>\n",
       "      <th>0</th>\n",
       "      <td>2020-05-07</td>\n",
       "      <td>2020</td>\n",
       "      <td>SON I konkurs I</td>\n",
       "      <td>Biblioteki</td>\n",
       "    </tr>\n",
       "    <tr>\n",
       "      <th>1</th>\n",
       "      <td>2020-05-07</td>\n",
       "      <td>2020</td>\n",
       "      <td>SON I konkurs I</td>\n",
       "      <td>Biblioteki</td>\n",
       "    </tr>\n",
       "    <tr>\n",
       "      <th>2</th>\n",
       "      <td>2020-05-07</td>\n",
       "      <td>2020</td>\n",
       "      <td>SON I konkurs I</td>\n",
       "      <td>Biblioteki</td>\n",
       "    </tr>\n",
       "    <tr>\n",
       "      <th>3</th>\n",
       "      <td>2020-05-07</td>\n",
       "      <td>2020</td>\n",
       "      <td>SON I konkurs I</td>\n",
       "      <td>Biblioteki</td>\n",
       "    </tr>\n",
       "    <tr>\n",
       "      <th>4</th>\n",
       "      <td>2020-05-07</td>\n",
       "      <td>2020</td>\n",
       "      <td>SON I konkurs I</td>\n",
       "      <td>Biblioteki</td>\n",
       "    </tr>\n",
       "  </tbody>\n",
       "</table>\n",
       "</div>"
      ],
      "text/plain": [
       "  Data przyznania   Rok          Konkurs       Moduł\n",
       "0      2020-05-07  2020  SON I konkurs I  Biblioteki\n",
       "1      2020-05-07  2020  SON I konkurs I  Biblioteki\n",
       "2      2020-05-07  2020  SON I konkurs I  Biblioteki\n",
       "3      2020-05-07  2020  SON I konkurs I  Biblioteki\n",
       "4      2020-05-07  2020  SON I konkurs I  Biblioteki"
      ]
     },
     "execution_count": 5,
     "metadata": {},
     "output_type": "execute_result"
    }
   ],
   "source": [
    "# Rok z kolumny Data przyznania\n",
    "df_all[\"Rok\"] = pd.to_datetime(df_all[\"Data przyznania\"], errors=\"coerce\").dt.year\n",
    "\n",
    "# Szybka kontrola\n",
    "df_all[[\"Data przyznania\", \"Rok\", \"Konkurs\", \"Moduł\"]].head()\n"
   ]
  },
  {
   "cell_type": "code",
   "execution_count": 7,
   "id": "9265daa7",
   "metadata": {},
   "outputs": [
    {
     "name": "stdout",
     "output_type": "stream",
     "text": [
      "Suma przyznanych kwot (PLN):\n"
     ]
    },
    {
     "data": {
      "text/html": [
       "<div>\n",
       "<style scoped>\n",
       "    .dataframe tbody tr th:only-of-type {\n",
       "        vertical-align: middle;\n",
       "    }\n",
       "\n",
       "    .dataframe tbody tr th {\n",
       "        vertical-align: top;\n",
       "    }\n",
       "\n",
       "    .dataframe thead th {\n",
       "        text-align: right;\n",
       "    }\n",
       "</style>\n",
       "<table border=\"1\" class=\"dataframe\">\n",
       "  <thead>\n",
       "    <tr style=\"text-align: right;\">\n",
       "      <th></th>\n",
       "      <th>Rok</th>\n",
       "      <th>Moduł</th>\n",
       "      <th>Kwota_clean</th>\n",
       "    </tr>\n",
       "  </thead>\n",
       "  <tbody>\n",
       "    <tr>\n",
       "      <th>0</th>\n",
       "      <td>2020</td>\n",
       "      <td>Biblioteki</td>\n",
       "      <td>4744994.01</td>\n",
       "    </tr>\n",
       "    <tr>\n",
       "      <th>1</th>\n",
       "      <td>2020</td>\n",
       "      <td>Popularyzacja</td>\n",
       "      <td>38455301.07</td>\n",
       "    </tr>\n",
       "    <tr>\n",
       "      <th>2</th>\n",
       "      <td>2021</td>\n",
       "      <td>Biblioteki</td>\n",
       "      <td>4993559.33</td>\n",
       "    </tr>\n",
       "    <tr>\n",
       "      <th>3</th>\n",
       "      <td>2021</td>\n",
       "      <td>Popularyzacja</td>\n",
       "      <td>46372191.96</td>\n",
       "    </tr>\n",
       "    <tr>\n",
       "      <th>4</th>\n",
       "      <td>2022</td>\n",
       "      <td>Biblioteki</td>\n",
       "      <td>5085284.13</td>\n",
       "    </tr>\n",
       "    <tr>\n",
       "      <th>5</th>\n",
       "      <td>2022</td>\n",
       "      <td>Popularyzacja</td>\n",
       "      <td>42251936.35</td>\n",
       "    </tr>\n",
       "    <tr>\n",
       "      <th>6</th>\n",
       "      <td>2024</td>\n",
       "      <td>Biblioteki</td>\n",
       "      <td>8880583.20</td>\n",
       "    </tr>\n",
       "    <tr>\n",
       "      <th>7</th>\n",
       "      <td>2024</td>\n",
       "      <td>Popularyzacja</td>\n",
       "      <td>21321395.37</td>\n",
       "    </tr>\n",
       "  </tbody>\n",
       "</table>\n",
       "</div>"
      ],
      "text/plain": [
       "    Rok          Moduł  Kwota_clean\n",
       "0  2020     Biblioteki   4744994.01\n",
       "1  2020  Popularyzacja  38455301.07\n",
       "2  2021     Biblioteki   4993559.33\n",
       "3  2021  Popularyzacja  46372191.96\n",
       "4  2022     Biblioteki   5085284.13\n",
       "5  2022  Popularyzacja  42251936.35\n",
       "6  2024     Biblioteki   8880583.20\n",
       "7  2024  Popularyzacja  21321395.37"
      ]
     },
     "metadata": {},
     "output_type": "display_data"
    }
   ],
   "source": [
    "# Suma kwot wg roku i modułu\n",
    "df_sum = (\n",
    "    df_all.groupby([\"Rok\", \"Moduł\"], dropna=False)[\"Kwota_clean\"]\n",
    "    .sum()\n",
    "    .reset_index()\n",
    "    .sort_values([\"Rok\", \"Moduł\"])\n",
    ")\n",
    "\n",
    "print(\"Suma przyznanych kwot (PLN):\")\n",
    "display(df_sum)\n"
   ]
  },
  {
   "cell_type": "code",
   "execution_count": 8,
   "id": "c84c8907",
   "metadata": {},
   "outputs": [
    {
     "data": {
      "image/png": "[encoded data removed]",
      "text/plain": [
       "<Figure size 1000x600 with 1 Axes>"
      ]
     },
     "metadata": {},
     "output_type": "display_data"
    }
   ],
   "source": [
    "import matplotlib.pyplot as plt\n",
    "\n",
    "plt.figure(figsize=(10,6))\n",
    "for modul, sub in df_sum.groupby(\"Moduł\"):\n",
    "    plt.bar(sub[\"Rok\"].astype(str), sub[\"Kwota_clean\"], label=modul)\n",
    "\n",
    "plt.title(\"Suma przyznanych kwot w konkursach SON (wg roku i modułu)\")\n",
    "plt.xlabel(\"Rok\")\n",
    "plt.ylabel(\"Kwota (PLN)\")\n",
    "plt.legend(title=\"Moduł\")\n",
    "plt.xticks(rotation=45)\n",
    "plt.tight_layout()\n",
    "plt.show()\n"
   ]
  },
  {
   "cell_type": "code",
   "execution_count": 10,
   "id": "65eae801",
   "metadata": {},
   "outputs": [
    {
     "data": {
      "image/png": "[encoded data removed]",
      "text/plain": [
       "<Figure size 1400x600 with 2 Axes>"
      ]
     },
     "metadata": {},
     "output_type": "display_data"
    }
   ],
   "source": [
    "import matplotlib.pyplot as plt\n",
    "\n",
    "# Upewnij się, że df_sum istnieje\n",
    "if \"df_sum\" not in locals():\n",
    "    raise NameError(\"Najpierw uruchom komórki 4–6, by utworzyć df_sum\")\n",
    "\n",
    "# Lista modułów (np. \"Popularyzacja\", \"Biblioteki\")\n",
    "moduly = df_sum[\"Moduł\"].unique()\n",
    "\n",
    "# Ustawienia wykresów obok siebie\n",
    "fig, axes = plt.subplots(1, len(moduly), figsize=(14, 6), sharey=True)\n",
    "\n",
    "if len(moduly) == 1:\n",
    "    axes = [axes]  # obsługa przypadku z jednym modułem\n",
    "\n",
    "for ax, modul in zip(axes, moduly):\n",
    "    sub = df_sum[df_sum[\"Moduł\"] == modul]\n",
    "    ax.bar(sub[\"Rok\"].astype(str), sub[\"Kwota_clean\"], color=\"steelblue\")\n",
    "    ax.set_title(f\"Suma kwot – {modul}\")\n",
    "    ax.set_xlabel(\"Rok\")\n",
    "    ax.set_ylabel(\"Kwota (PLN)\")\n",
    "    ax.tick_params(axis=\"x\", rotation=45)\n",
    "    # Dodaj wartości na słupkach\n",
    "    for i, val in enumerate(sub[\"Kwota_clean\"]):\n",
    "        ax.text(i, val, f\"{val:,.0f}\", ha=\"center\", va=\"bottom\", fontsize=9)\n",
    "\n",
    "plt.suptitle(\"Suma przyznanych kwot w konkursach SON\", fontsize=14)\n",
    "plt.tight_layout(rect=[0, 0, 1, 0.96])\n",
    "plt.show()\n"
   ]
  }
 ],
 "metadata": {
  "kernelspec": {
   "display_name": "Python 3",
   "language": "python",
   "name": "python3"
  },
  "language_info": {
   "codemirror_mode": {
    "name": "ipython",
    "version": 3
   },
   "file_extension": ".py",
   "mimetype": "text/x-python",
   "name": "python",
   "nbconvert_exporter": "python",
   "pygments_lexer": "ipython3",
   "version": "3.12.9"
  }
 },
 "nbformat": 4,
 "nbformat_minor": 5
}
